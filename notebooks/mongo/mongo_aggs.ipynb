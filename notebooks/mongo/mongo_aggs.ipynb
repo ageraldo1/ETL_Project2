{
 "cells": [
  {
   "cell_type": "code",
   "execution_count": 1,
   "metadata": {},
   "outputs": [],
   "source": [
    "from pymongo import MongoClient"
   ]
  },
  {
   "cell_type": "code",
   "execution_count": 2,
   "metadata": {},
   "outputs": [],
   "source": [
    "db_name = 'TheDonald'\n",
    "db_collection = 'tweets'\n",
    "mongo_url='mongodb://192.168.0.26:27017/'"
   ]
  },
  {
   "cell_type": "code",
   "execution_count": 3,
   "metadata": {},
   "outputs": [],
   "source": [
    "client = MongoClient(mongo_url)\n",
    "db = client[db_name]\n",
    "collection = db.get_collection(db_collection)\n"
   ]
  },
  {
   "cell_type": "code",
   "execution_count": 50,
   "metadata": {},
   "outputs": [
    {
     "ename": "SyntaxError",
     "evalue": "invalid syntax (<ipython-input-50-9c6437e2c341>, line 8)",
     "output_type": "error",
     "traceback": [
      "\u001b[1;36m  File \u001b[1;32m\"<ipython-input-50-9c6437e2c341>\"\u001b[1;36m, line \u001b[1;32m8\u001b[0m\n\u001b[1;33m    $sum: 1\u001b[0m\n\u001b[1;37m    ^\u001b[0m\n\u001b[1;31mSyntaxError\u001b[0m\u001b[1;31m:\u001b[0m invalid syntax\n"
     ]
    }
   ],
   "source": [
    " db.BusinessProcess.aggregate({\n",
    "    \"$group\": {\n",
    "        _id: {\n",
    "            status: \"$status\",\n",
    "            type: \"$type\"\n",
    "        },\n",
    "        count: {\n",
    "            $sum: 1\n",
    "        }\n",
    "    }\n",
    "   })"
   ]
  },
  {
   "cell_type": "code",
   "execution_count": 55,
   "metadata": {},
   "outputs": [
    {
     "name": "stdout",
     "output_type": "stream",
     "text": [
      "{'_id': {'tweet_id': '6.22E+17'}, 'count': 88}\n",
      "{'_id': {'tweet_id': '6.24E+17'}, 'count': 103}\n",
      "{'_id': {'tweet_id': '6.27E+17'}, 'count': 47}\n",
      "{'_id': {'tweet_id': '6.28E+17'}, 'count': 63}\n",
      "{'_id': {'tweet_id': '6.29E+17'}, 'count': 61}\n",
      "{'_id': {'tweet_id': '6.31E+17'}, 'count': 35}\n",
      "{'_id': {'tweet_id': '6.34E+17'}, 'count': 27}\n",
      "{'_id': {'tweet_id': '6.35E+17'}, 'count': 30}\n",
      "{'_id': {'tweet_id': '6.36E+17'}, 'count': 52}\n",
      "{'_id': {'tweet_id': '6.37E+17'}, 'count': 28}\n",
      "{'_id': {'tweet_id': '6.38E+17'}, 'count': 15}\n",
      "{'_id': {'tweet_id': '6.39E+17'}, 'count': 36}\n",
      "{'_id': {'tweet_id': '6.40E+17'}, 'count': 27}\n",
      "{'_id': {'tweet_id': '6.45E+17'}, 'count': 23}\n",
      "{'_id': {'tweet_id': '6.47E+17'}, 'count': 40}\n",
      "{'_id': {'tweet_id': '6.51E+17'}, 'count': 70}\n",
      "{'_id': {'tweet_id': '6.52E+17'}, 'count': 65}\n",
      "{'_id': {'tweet_id': '6.43E+17'}, 'count': 53}\n",
      "{'_id': {'tweet_id': '6.54E+17'}, 'count': 128}\n",
      "{'_id': {'tweet_id': '6.56E+17'}, 'count': 94}\n",
      "{'_id': {'tweet_id': '6.59E+17'}, 'count': 49}\n",
      "{'_id': {'tweet_id': '6.60E+17'}, 'count': 100}\n",
      "{'_id': {'tweet_id': '6.61E+17'}, 'count': 74}\n",
      "{'_id': {'tweet_id': '6.63E+17'}, 'count': 98}\n",
      "{'_id': {'tweet_id': '6.65E+17'}, 'count': 41}\n",
      "{'_id': {'tweet_id': '6.44E+17'}, 'count': 36}\n",
      "{'_id': {'tweet_id': '6.66E+17'}, 'count': 59}\n",
      "{'_id': {'tweet_id': '6.67E+17'}, 'count': 36}\n",
      "{'_id': {'tweet_id': '6.68E+17'}, 'count': 94}\n",
      "{'_id': {'tweet_id': '6.42E+17'}, 'count': 21}\n",
      "{'_id': {'tweet_id': '6.70E+17'}, 'count': 36}\n",
      "{'_id': {'tweet_id': '6.33E+17'}, 'count': 31}\n",
      "{'_id': {'tweet_id': '6.71E+17'}, 'count': 47}\n",
      "{'_id': {'tweet_id': '6.30E+17'}, 'count': 83}\n",
      "{'_id': {'tweet_id': '6.72E+17'}, 'count': 65}\n",
      "{'_id': {'tweet_id': '6.26E+17'}, 'count': 92}\n",
      "{'_id': {'tweet_id': '6.73E+17'}, 'count': 48}\n",
      "{'_id': {'tweet_id': '6.75E+17'}, 'count': 65}\n",
      "{'_id': {'tweet_id': '6.76E+17'}, 'count': 71}\n",
      "{'_id': {'tweet_id': '6.78E+17'}, 'count': 26}\n",
      "{'_id': {'tweet_id': '6.79E+17'}, 'count': 46}\n",
      "{'_id': {'tweet_id': '6.81E+17'}, 'count': 25}\n",
      "{'_id': {'tweet_id': '6.83E+17'}, 'count': 43}\n",
      "{'_id': {'tweet_id': '6.85E+17'}, 'count': 40}\n",
      "{'_id': {'tweet_id': '6.25E+17'}, 'count': 105}\n",
      "{'_id': {'tweet_id': '6.86E+17'}, 'count': 33}\n",
      "{'_id': {'tweet_id': '6.87E+17'}, 'count': 39}\n",
      "{'_id': {'tweet_id': '6.88E+17'}, 'count': 39}\n",
      "{'_id': {'tweet_id': '6.92E+17'}, 'count': 59}\n",
      "{'_id': {'tweet_id': '6.93E+17'}, 'count': 67}\n",
      "{'_id': {'tweet_id': '6.96E+17'}, 'count': 55}\n",
      "{'_id': {'tweet_id': '6.69E+17'}, 'count': 48}\n",
      "{'_id': {'tweet_id': '6.95E+17'}, 'count': 42}\n",
      "{'_id': {'tweet_id': '6.97E+17'}, 'count': 37}\n",
      "{'_id': {'tweet_id': '6.98E+17'}, 'count': 39}\n",
      "{'_id': {'tweet_id': '7.00E+17'}, 'count': 49}\n",
      "{'_id': {'tweet_id': '7.01E+17'}, 'count': 44}\n",
      "{'_id': {'tweet_id': '7.54E+17'}, 'count': 16}\n",
      "{'_id': {'tweet_id': '6.32E+17'}, 'count': 15}\n",
      "{'_id': {'tweet_id': '7.56E+17'}, 'count': 34}\n",
      "{'_id': {'tweet_id': '7.55E+17'}, 'count': 27}\n",
      "{'_id': {'tweet_id': '7.60E+17'}, 'count': 40}\n",
      "{'_id': {'tweet_id': '7.47E+17'}, 'count': 28}\n",
      "{'_id': {'tweet_id': '6.50E+17'}, 'count': 50}\n",
      "{'_id': {'tweet_id': '7.62E+17'}, 'count': 23}\n",
      "{'_id': {'tweet_id': '6.49E+17'}, 'count': 38}\n",
      "{'_id': {'tweet_id': '6.84E+17'}, 'count': 42}\n",
      "{'_id': {'tweet_id': '7.25E+17'}, 'count': 37}\n",
      "{'_id': {'tweet_id': '7.57E+17'}, 'count': 35}\n",
      "{'_id': {'tweet_id': '6.80E+17'}, 'count': 16}\n",
      "{'_id': {'tweet_id': '7.64E+17'}, 'count': 19}\n",
      "{'_id': {'tweet_id': '7.65E+17'}, 'count': 20}\n",
      "{'_id': {'tweet_id': '6.41E+17'}, 'count': 51}\n",
      "{'_id': {'tweet_id': '7.66E+17'}, 'count': 19}\n",
      "{'_id': {'tweet_id': '6.48E+17'}, 'count': 34}\n",
      "{'_id': {'tweet_id': '7.14E+17'}, 'count': 26}\n",
      "{'_id': {'tweet_id': '7.63E+17'}, 'count': 35}\n",
      "{'_id': {'tweet_id': '7.13E+17'}, 'count': 37}\n",
      "{'_id': {'tweet_id': '7.53E+17'}, 'count': 33}\n",
      "{'_id': {'tweet_id': '7.42E+17'}, 'count': 30}\n",
      "{'_id': {'tweet_id': '7.51E+17'}, 'count': 25}\n",
      "{'_id': {'tweet_id': '7.83E+17'}, 'count': 67}\n",
      "{'_id': {'tweet_id': '6.55E+17'}, 'count': 44}\n",
      "{'_id': {'tweet_id': '7.04E+17'}, 'count': 58}\n",
      "{'_id': {'tweet_id': '7.72E+17'}, 'count': 14}\n",
      "{'_id': {'tweet_id': '7.27E+17'}, 'count': 26}\n",
      "{'_id': {'tweet_id': '7.31E+17'}, 'count': 9}\n",
      "{'_id': {'tweet_id': '6.46E+17'}, 'count': 89}\n",
      "{'_id': {'tweet_id': '7.78E+17'}, 'count': 25}\n",
      "{'_id': {'tweet_id': '7.89E+17'}, 'count': 108}\n",
      "{'_id': {'tweet_id': '7.24E+17'}, 'count': 24}\n",
      "{'_id': {'tweet_id': '7.15E+17'}, 'count': 30}\n",
      "{'_id': {'tweet_id': '6.90E+17'}, 'count': 43}\n",
      "{'_id': {'tweet_id': '7.52E+17'}, 'count': 9}\n",
      "{'_id': {'tweet_id': '6.58E+17'}, 'count': 75}\n",
      "{'_id': {'tweet_id': '7.86E+17'}, 'count': 31}\n",
      "{'_id': {'tweet_id': '7.80E+17'}, 'count': 16}\n",
      "{'_id': {'tweet_id': '7.26E+17'}, 'count': 28}\n",
      "{'_id': {'tweet_id': '7.84E+17'}, 'count': 26}\n",
      "{'_id': {'tweet_id': '7.32E+17'}, 'count': 36}\n",
      "{'_id': {'tweet_id': '6.77E+17'}, 'count': 66}\n",
      "{'_id': {'tweet_id': '7.12E+17'}, 'count': 30}\n",
      "{'_id': {'tweet_id': '7.90E+17'}, 'count': 42}\n",
      "{'_id': {'tweet_id': '6.53E+17'}, 'count': 49}\n",
      "{'_id': {'tweet_id': '6.57E+17'}, 'count': 55}\n",
      "{'_id': {'tweet_id': '6.82E+17'}, 'count': 48}\n",
      "{'_id': {'tweet_id': '7.92E+17'}, 'count': 38}\n",
      "{'_id': {'tweet_id': '7.59E+17'}, 'count': 60}\n",
      "{'_id': {'tweet_id': '7.85E+17'}, 'count': 74}\n",
      "{'_id': {'tweet_id': '7.79E+17'}, 'count': 18}\n",
      "{'_id': {'tweet_id': '7.74E+17'}, 'count': 32}\n",
      "{'_id': {'tweet_id': '7.94E+17'}, 'count': 34}\n",
      "{'_id': {'tweet_id': '7.93E+17'}, 'count': 22}\n",
      "{'_id': {'tweet_id': '7.36E+17'}, 'count': 20}\n",
      "{'_id': {'tweet_id': '7.97E+17'}, 'count': 6}\n",
      "{'_id': {'tweet_id': '7.45E+17'}, 'count': 19}\n",
      "{'_id': {'tweet_id': '7.69E+17'}, 'count': 33}\n",
      "{'_id': {'tweet_id': '7.87E+17'}, 'count': 31}\n",
      "{'_id': {'tweet_id': '7.96E+17'}, 'count': 31}\n",
      "{'_id': {'tweet_id': '7.16E+17'}, 'count': 26}\n",
      "{'_id': {'tweet_id': '7.03E+17'}, 'count': 71}\n",
      "{'_id': {'tweet_id': '7.29E+17'}, 'count': 29}\n",
      "{'_id': {'tweet_id': '7.75E+17'}, 'count': 14}\n",
      "{'_id': {'tweet_id': '6.62E+17'}, 'count': 51}\n",
      "{'_id': {'tweet_id': '6.99E+17'}, 'count': 55}\n",
      "{'_id': {'tweet_id': '7.68E+17'}, 'count': 28}\n",
      "{'_id': {'tweet_id': '7.22E+17'}, 'count': 23}\n",
      "{'_id': {'tweet_id': '6.74E+17'}, 'count': 87}\n",
      "{'_id': {'tweet_id': '7.88E+17'}, 'count': 52}\n",
      "{'_id': {'tweet_id': '7.34E+17'}, 'count': 36}\n",
      "{'_id': {'tweet_id': '7.61E+17'}, 'count': 25}\n",
      "{'_id': {'tweet_id': '7.35E+17'}, 'count': 31}\n",
      "{'_id': {'tweet_id': '7.08E+17'}, 'count': 26}\n",
      "{'_id': {'tweet_id': '7.82E+17'}, 'count': 22}\n",
      "{'_id': {'tweet_id': '7.76E+17'}, 'count': 30}\n",
      "{'_id': {'tweet_id': '7.05E+17'}, 'count': 52}\n",
      "{'_id': {'tweet_id': '7.81E+17'}, 'count': 66}\n",
      "{'_id': {'tweet_id': '7.77E+17'}, 'count': 25}\n",
      "{'_id': {'tweet_id': '7.49E+17'}, 'count': 33}\n",
      "{'_id': {'tweet_id': '7.09E+17'}, 'count': 34}\n",
      "{'_id': {'tweet_id': '7.50E+17'}, 'count': 27}\n",
      "{'_id': {'tweet_id': '7.48E+17'}, 'count': 23}\n",
      "{'_id': {'tweet_id': '6.21E+17'}, 'count': 1}\n",
      "{'_id': {'tweet_id': '7.33E+17'}, 'count': 64}\n",
      "{'_id': {'tweet_id': '7.46E+17'}, 'count': 35}\n",
      "{'_id': {'tweet_id': '7.44E+17'}, 'count': 26}\n",
      "{'_id': {'tweet_id': '7.40E+17'}, 'count': 4}\n",
      "{'_id': {'tweet_id': '7.43E+17'}, 'count': 20}\n",
      "{'_id': {'tweet_id': '7.41E+17'}, 'count': 9}\n",
      "{'_id': {'tweet_id': '7.67E+17'}, 'count': 18}\n",
      "{'_id': {'tweet_id': '7.71E+17'}, 'count': 24}\n",
      "{'_id': {'tweet_id': '7.73E+17'}, 'count': 29}\n",
      "{'_id': {'tweet_id': '7.38E+17'}, 'count': 34}\n",
      "{'_id': {'tweet_id': '6.94E+17'}, 'count': 29}\n",
      "{'_id': {'tweet_id': '7.37E+17'}, 'count': 27}\n",
      "{'_id': {'tweet_id': '7.20E+17'}, 'count': 23}\n",
      "{'_id': {'tweet_id': '7.19E+17'}, 'count': 39}\n",
      "{'_id': {'tweet_id': '6.89E+17'}, 'count': 26}\n",
      "{'_id': {'tweet_id': '7.70E+17'}, 'count': 29}\n",
      "{'_id': {'tweet_id': '7.30E+17'}, 'count': 49}\n",
      "{'_id': {'tweet_id': '7.28E+17'}, 'count': 23}\n",
      "{'_id': {'tweet_id': '7.23E+17'}, 'count': 24}\n",
      "{'_id': {'tweet_id': '6.64E+17'}, 'count': 43}\n",
      "{'_id': {'tweet_id': '7.21E+17'}, 'count': 20}\n",
      "{'_id': {'tweet_id': '7.39E+17'}, 'count': 30}\n",
      "{'_id': {'tweet_id': '7.18E+17'}, 'count': 14}\n",
      "{'_id': {'tweet_id': '6.23E+17'}, 'count': 99}\n",
      "{'_id': {'tweet_id': '7.07E+17'}, 'count': 56}\n",
      "{'_id': {'tweet_id': '7.17E+17'}, 'count': 32}\n",
      "{'_id': {'tweet_id': '6.91E+17'}, 'count': 75}\n",
      "{'_id': {'tweet_id': '7.11E+17'}, 'count': 55}\n",
      "{'_id': {'tweet_id': '7.95E+17'}, 'count': 34}\n",
      "{'_id': {'tweet_id': '7.10E+17'}, 'count': 63}\n",
      "{'_id': {'tweet_id': '7.91E+17'}, 'count': 40}\n",
      "{'_id': {'tweet_id': '7.06E+17'}, 'count': 39}\n",
      "{'_id': {'tweet_id': '7.58E+17'}, 'count': 56}\n",
      "{'_id': {'tweet_id': '7.02E+17'}, 'count': 57}\n"
     ]
    }
   ],
   "source": [
    "result = collection.aggregate([{\n",
    "    '$group': {\n",
    "        '_id' : {\n",
    "            'tweet_id' : '$tweet_id'\n",
    "        },\n",
    "        'count' : {\n",
    "            '$sum' : 1\n",
    "        }\n",
    "    }\n",
    "    \n",
    "}])\n",
    "\n",
    "for item in result:\n",
    "    print (item)\n",
    "    #break"
   ]
  },
  {
   "cell_type": "code",
   "execution_count": 34,
   "metadata": {},
   "outputs": [
    {
     "name": "stdout",
     "output_type": "stream",
     "text": [
      "{'_id': {'tweet_id': '6.22E+17'}, 'count': 88}\n"
     ]
    }
   ],
   "source": [
    "result = collection.aggregate([{\n",
    "    '$group': {\n",
    "        '_id' : {\n",
    "            'tweet_id' : '$tweet_id'\n",
    "        },\n",
    "        'count' : {\n",
    "            '$sum' : 1\n",
    "        }\n",
    "    }\n",
    "    \n",
    "}])\n",
    "\n",
    "for item in result:\n",
    "    print (item)\n",
    "    break"
   ]
  },
  {
   "cell_type": "code",
   "execution_count": 36,
   "metadata": {},
   "outputs": [
    {
     "name": "stdout",
     "output_type": "stream",
     "text": [
      "{'_id': datetime.datetime(2016, 1, 14, 5, 45, 41), 'count': 2}\n"
     ]
    }
   ],
   "source": [
    "result = collection.aggregate([{\n",
    "    '$sortByCount': '$timestamp'\n",
    "}])\n",
    "\n",
    "for item in result:\n",
    "    print (item)\n",
    "    break"
   ]
  },
  {
   "cell_type": "code",
   "execution_count": 53,
   "metadata": {},
   "outputs": [
    {
     "name": "stdout",
     "output_type": "stream",
     "text": [
      "{'_id': {'timestamp': datetime.datetime(2015, 7, 16, 9, 44, 7), 'count': 1}}\n"
     ]
    }
   ],
   "source": [
    "result = collection.aggregate([\n",
    "    {\n",
    "        '$group': {\n",
    "            '_id' : {\n",
    "                'timestamp' : '$timestamp',\n",
    "                'count' : {\n",
    "                    '$sum' : 1\n",
    "                }\n",
    "            }\n",
    "        }\n",
    "    },\n",
    "    {\n",
    "        '$sort' : { 'count' : -1}\n",
    "        \n",
    "    }\n",
    "])\n",
    "\n",
    "for item in result:\n",
    "    print (item)\n",
    "    break"
   ]
  },
  {
   "cell_type": "code",
   "execution_count": 61,
   "metadata": {},
   "outputs": [
    {
     "name": "stdout",
     "output_type": "stream",
     "text": [
      "{'_id': {'date': '2015-07-16'}, 'count': 39}\n"
     ]
    }
   ],
   "source": [
    "result = collection.aggregate([{\n",
    "    '$group': {\n",
    "        '_id' : {\n",
    "            'date' : {'$dateToString' : {'format' : '%Y-%m-%d', 'date' : '$timestamp' }}\n",
    "        },\n",
    "        'count' : {\n",
    "            '$sum' : 1\n",
    "        }\n",
    "    }\n",
    "    \n",
    "}])\n",
    "\n",
    "for item in result:\n",
    "    print (item)\n",
    "    break"
   ]
  },
  {
   "cell_type": "code",
   "execution_count": 13,
   "metadata": {},
   "outputs": [
    {
     "name": "stdout",
     "output_type": "stream",
     "text": [
      "2016-10-20\n"
     ]
    }
   ],
   "source": [
    "result = collection.aggregate([\n",
    "    {\n",
    "        '$group': {\n",
    "            '_id' : {\n",
    "                'date' : {'$dateToString' : {'format' : '%Y-%m-%d', 'date' : '$timestamp' }}\n",
    "            },\n",
    "            'count' : {\n",
    "                '$sum' : 1\n",
    "            }\n",
    "        }    \n",
    "    },\n",
    "    {\n",
    "        '$sort' : { 'count' : -1}\n",
    "    },\n",
    "    {\n",
    "        '$limit' : 1\n",
    "    }\n",
    "])\n",
    "\n",
    "#print (next(result))\n",
    "for item in result:\n",
    "    print (item['_id']['date'])\n",
    "    #break"
   ]
  },
  {
   "cell_type": "code",
   "execution_count": null,
   "metadata": {},
   "outputs": [],
   "source": []
  }
 ],
 "metadata": {
  "kernelspec": {
   "display_name": "Python 3",
   "language": "python",
   "name": "python3"
  },
  "language_info": {
   "codemirror_mode": {
    "name": "ipython",
    "version": 3
   },
   "file_extension": ".py",
   "mimetype": "text/x-python",
   "name": "python",
   "nbconvert_exporter": "python",
   "pygments_lexer": "ipython3",
   "version": "3.7.0"
  }
 },
 "nbformat": 4,
 "nbformat_minor": 2
}
