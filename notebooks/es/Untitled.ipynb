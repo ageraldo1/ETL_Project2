{
 "cells": [
  {
   "cell_type": "code",
   "execution_count": 5,
   "metadata": {},
   "outputs": [
    {
     "name": "stdout",
     "output_type": "stream",
     "text": [
      "964\n"
     ]
    }
   ],
   "source": [
    "import requests\n",
    "import time\n",
    "import json\n",
    "import pymongo\n",
    "from pprint import pprint\n",
    "\n",
    "articlelist = []\n",
    "for x in range(1,965,1):\n",
    "    page = x\n",
    "    apikey = \"z0BkjWA7vgZ1bdYI9RUOZP8S3uubUZ4p\"\n",
    "    params = {\n",
    "        'api-key' : apikey,\n",
    "        'begin_date' : '20151001',\n",
    "        'end_date' : '20151031',\n",
    "        'sort':'newest',\n",
    "        'page':1\n",
    "            }\n",
    "    url = 'https://api.nytimes.com/svc/search/v2/articlesearch.json'\n",
    "\n",
    "    response = requests.get(url=url,params=params)\n",
    "\n",
    "    if response.status_code == 200:\n",
    "        articles= response.json()\n",
    "        shortlist = [article for article in articles[\"response\"][\"docs\"]]\n",
    "    articlelist.append(shortlist)\n",
    "print(len(articlelist))"
   ]
  },
  {
   "cell_type": "code",
   "execution_count": 7,
   "metadata": {},
   "outputs": [
    {
     "name": "stdout",
     "output_type": "stream",
     "text": [
      "10\n"
     ]
    }
   ],
   "source": [
    "print(len(articlelist[1]))"
   ]
  },
  {
   "cell_type": "code",
   "execution_count": null,
   "metadata": {},
   "outputs": [],
   "source": []
  }
 ],
 "metadata": {
  "kernelspec": {
   "display_name": "Python 3",
   "language": "python",
   "name": "python3"
  },
  "language_info": {
   "codemirror_mode": {
    "name": "ipython",
    "version": 3
   },
   "file_extension": ".py",
   "mimetype": "text/x-python",
   "name": "python",
   "nbconvert_exporter": "python",
   "pygments_lexer": "ipython3",
   "version": "3.7.1"
  }
 },
 "nbformat": 4,
 "nbformat_minor": 2
}
