{
 "cells": [
  {
   "cell_type": "code",
   "execution_count": 5,
   "metadata": {},
   "outputs": [],
   "source": [
    "import csv\n",
    "\n",
    "from datetime import datetime\n",
    "from elasticsearch import Elasticsearch"
   ]
  },
  {
   "cell_type": "code",
   "execution_count": 6,
   "metadata": {},
   "outputs": [],
   "source": [
    "es_url = 'http://192.168.0.26:9200'\n",
    "csv_source_file = '../../resources/tweets.csv'\n",
    "document_type = 'tweets'\n",
    "index_name = 'tweets'\n",
    "reload = True\n",
    "\n",
    "es = Elasticsearch(hosts=es_url)\n",
    "\n",
    "if reload:\n",
    "    es.indices.delete(index=index_name, ignore=[400, 404])"
   ]
  },
  {
   "cell_type": "code",
   "execution_count": 7,
   "metadata": {},
   "outputs": [
    {
     "name": "stdout",
     "output_type": "stream",
     "text": [
      "Process completed without issues\n"
     ]
    }
   ],
   "source": [
    "status_message = None\n",
    "\n",
    "with open(file=csv_source_file, mode='r', encoding='utf-8') as csv_file:    \n",
    "    csv_reader = csv.DictReader(csv_file, delimiter=',')\n",
    "    \n",
    "    try:\n",
    "        for line in csv_reader:\n",
    "            row = {}\n",
    "\n",
    "            row['timestamp'] = datetime.strptime(line['Date'] + ' ' + line['Time'], '%y-%m-%d %H:%M:%S')\n",
    "            row['tweet_text'] = line['Tweet_Text']\n",
    "            row['type'] = line['Type']\n",
    "            row['media_type'] = line['Media_Type']\n",
    "            row['hashtags'] = line['Hashtags']\n",
    "            row['tweet_id'] = line['Tweet_Id']\n",
    "            row['tweet_url'] = line['Tweet_Url']\n",
    "            row['tweet_favorites'] = line['twt_favourites_IS_THIS_LIKE_QUESTION_MARK']\n",
    "            row['retweets'] = line['Retweets']\n",
    "\n",
    "            res = es.index(index=index_name, doc_type=document_type, body=row)\n",
    "            \n",
    "            if 'failed' in res['result']:\n",
    "                status_message = f'Erros during tweets load : {res}'\n",
    "                break\n",
    "                \n",
    "    except Exception as e :\n",
    "        status_message = f'Erros during tweets load : {e} '\n",
    "    \n",
    "    if not status_message:\n",
    "        status_message = 'Process completed without issues'\n",
    "    \n",
    "    print (status_message)    \n",
    "        \n",
    "    "
   ]
  },
  {
   "cell_type": "code",
   "execution_count": null,
   "metadata": {},
   "outputs": [],
   "source": []
  }
 ],
 "metadata": {
  "kernelspec": {
   "display_name": "Python 3",
   "language": "python",
   "name": "python3"
  },
  "language_info": {
   "codemirror_mode": {
    "name": "ipython",
    "version": 3
   },
   "file_extension": ".py",
   "mimetype": "text/x-python",
   "name": "python",
   "nbconvert_exporter": "python",
   "pygments_lexer": "ipython3",
   "version": "3.7.0"
  }
 },
 "nbformat": 4,
 "nbformat_minor": 2
}
